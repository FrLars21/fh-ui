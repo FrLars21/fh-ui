{
 "cells": [
  {
   "cell_type": "markdown",
   "metadata": {},
   "source": [
    "# core\n",
    "\n",
    "> Fill in a module description here"
   ]
  },
  {
   "cell_type": "code",
   "execution_count": null,
   "metadata": {},
   "outputs": [],
   "source": [
    "#| default_exp core"
   ]
  },
  {
   "cell_type": "code",
   "execution_count": null,
   "metadata": {},
   "outputs": [],
   "source": [
    "#| export\n",
    "import fasthtml.common as fh\n",
    "from fastcore.meta import delegates"
   ]
  },
  {
   "cell_type": "markdown",
   "metadata": {},
   "source": [
    "Setup FastHTML styles in a Notebook."
   ]
  },
  {
   "cell_type": "code",
   "execution_count": null,
   "metadata": {},
   "outputs": [],
   "source": [
    "try: from IPython import display\n",
    "except ImportError: display=None"
   ]
  },
  {
   "cell_type": "code",
   "execution_count": null,
   "metadata": {},
   "outputs": [],
   "source": [
    "#| export\n",
    "css_scope_inline = (fh.Script(src=\"https://cdn.jsdelivr.net/gh/gnat/css-scope-inline@main/script.js\"))\n",
    "#css_reset = \n",
    "css_vars = fh.Style(\"\"\"\n",
    "root: {\n",
    "    --color-zinc-50: #ececec;\n",
    "}\n",
    "\"\"\")"
   ]
  },
  {
   "cell_type": "code",
   "execution_count": null,
   "metadata": {},
   "outputs": [
    {
     "data": {
      "text/html": [
       "<script src=\"https://cdn.jsdelivr.net/gh/gnat/css-scope-inline@main/script.js\"></script>"
      ],
      "text/plain": [
       "<IPython.core.display.HTML object>"
      ]
     },
     "metadata": {},
     "output_type": "display_data"
    }
   ],
   "source": [
    "fh.show(css_scope_inline)"
   ]
  },
  {
   "cell_type": "markdown",
   "metadata": {},
   "source": [
    "## Button"
   ]
  },
  {
   "cell_type": "code",
   "execution_count": null,
   "metadata": {},
   "outputs": [],
   "source": [
    "#| export\n",
    "@delegates(fh.ft_hx, keep=True)\n",
    "def Button(*args, variant:str = \"default\", **kwargs):\n",
    "    styles = \"\"\"\n",
    "    me {\n",
    "        height: 4rem;\n",
    "        padding-left: 2rem;\n",
    "        padding-right: 2rem;\n",
    "        border: 1px solid #ececec;\n",
    "        border-radius: 0.5rem;\n",
    "    }\n",
    "    \"\"\"\n",
    "    if variant == \"default\":\n",
    "        styles += \"me { background: gray; }\"\n",
    "    elif variant == \"outline\":\n",
    "        styles += \"me { background: white; }\"\n",
    "    elif variant == \"ghost\":\n",
    "        styles += \"me { background: blue; }\"\n",
    "    return fh.Button(\n",
    "        fh.Style(styles), *args, **kwargs)"
   ]
  },
  {
   "cell_type": "code",
   "execution_count": null,
   "metadata": {},
   "outputs": [
    {
     "data": {
      "text/html": [
       "<div>\n",
       "  <style>me {display:flex;gap:2rem;}</style>\n",
       "<button>    <style>\n",
       "    me {\n",
       "        height: 4rem;\n",
       "        padding-left: 2rem;\n",
       "        padding-right: 2rem;\n",
       "        border: 1px solid #ececec;\n",
       "        border-radius: 0.5rem;\n",
       "    }\n",
       "    me { background: gray; }</style>\n",
       "Default</button><button>    <style>\n",
       "    me {\n",
       "        height: 4rem;\n",
       "        padding-left: 2rem;\n",
       "        padding-right: 2rem;\n",
       "        border: 1px solid #ececec;\n",
       "        border-radius: 0.5rem;\n",
       "    }\n",
       "    me { background: white; }</style>\n",
       "Outline</button><button>    <style>\n",
       "    me {\n",
       "        height: 4rem;\n",
       "        padding-left: 2rem;\n",
       "        padding-right: 2rem;\n",
       "        border: 1px solid #ececec;\n",
       "        border-radius: 0.5rem;\n",
       "    }\n",
       "    me { background: blue; }</style>\n",
       "Ghost</button></div>\n"
      ],
      "text/plain": [
       "<IPython.core.display.HTML object>"
      ]
     },
     "metadata": {},
     "output_type": "display_data"
    }
   ],
   "source": [
    "fh.show(fh.Div(fh.Style(\"me {display:flex;gap:2rem;}\"),\n",
    "               Button(\"Default\"), \n",
    "               Button(\"Outline\", variant=\"outline\"),\n",
    "               Button(\"Ghost\", variant=\"ghost\")\n",
    "              ))"
   ]
  },
  {
   "cell_type": "markdown",
   "metadata": {},
   "source": [
    "## Input"
   ]
  },
  {
   "cell_type": "code",
   "execution_count": null,
   "metadata": {},
   "outputs": [],
   "source": [
    "#| export\n",
    "@delegates(fh.ft_hx, keep=True)\n",
    "def Input(*args, **kwargs):\n",
    "    styles = f\"\"\"\n",
    "    me {{\n",
    "        border: 5px solid black;\n",
    "    }}\n",
    "    \"\"\"\n",
    "    return fh.Input(\n",
    "        fh.Style(styles), *args, **kwargs)"
   ]
  },
  {
   "cell_type": "code",
   "execution_count": null,
   "metadata": {},
   "outputs": [
    {
     "data": {
      "text/html": [
       "<div>\n",
       "  <style>me {display:flex;gap:2rem;}</style>\n",
       "  <input type=\"text\">\n",
       "    <style>\n",
       "    me {\n",
       "        border: 5px solid black;\n",
       "    }\n",
       "    </style>\n",
       "</div>\n"
      ],
      "text/plain": [
       "<IPython.core.display.HTML object>"
      ]
     },
     "metadata": {},
     "output_type": "display_data"
    }
   ],
   "source": [
    "fh.show(fh.Div(fh.Style(\"me {display:flex;gap:2rem;}\"),\n",
    "               Input(type=\"text\"),\n",
    "              ))"
   ]
  },
  {
   "cell_type": "markdown",
   "metadata": {},
   "source": [
    "## Label"
   ]
  },
  {
   "cell_type": "code",
   "execution_count": null,
   "metadata": {},
   "outputs": [],
   "source": [
    "#| export\n",
    "@delegates(fh.ft_hx, keep=True)\n",
    "def Label(*args, **kwargs):\n",
    "    styles = f\"\"\"\n",
    "    me {{\n",
    "        color: green;\n",
    "    }}\n",
    "    \"\"\"\n",
    "    return fh.Label(\n",
    "        fh.Style(styles), *args, **kwargs)"
   ]
  },
  {
   "cell_type": "code",
   "execution_count": null,
   "metadata": {},
   "outputs": [
    {
     "data": {
      "text/html": [
       "<div>\n",
       "  <style>me {display:flex;gap:2rem;}</style>\n",
       "<label>    <style>\n",
       "    me {\n",
       "        color: green;\n",
       "    }\n",
       "    </style>\n",
       "Hello world</label></div>\n"
      ],
      "text/plain": [
       "<IPython.core.display.HTML object>"
      ]
     },
     "metadata": {},
     "output_type": "display_data"
    }
   ],
   "source": [
    "fh.show(fh.Div(fh.Style(\"me {display:flex;gap:2rem;}\"),\n",
    "               Label(\"Hello world\"),\n",
    "              ))"
   ]
  },
  {
   "cell_type": "code",
   "execution_count": null,
   "metadata": {},
   "outputs": [],
   "source": []
  },
  {
   "cell_type": "code",
   "execution_count": null,
   "metadata": {},
   "outputs": [],
   "source": []
  },
  {
   "cell_type": "code",
   "execution_count": null,
   "metadata": {},
   "outputs": [],
   "source": [
    "#| hide\n",
    "import nbdev; nbdev.nbdev_export()"
   ]
  }
 ],
 "metadata": {
  "kernelspec": {
   "display_name": "python3",
   "language": "python",
   "name": "python3"
  }
 },
 "nbformat": 4,
 "nbformat_minor": 4
}
