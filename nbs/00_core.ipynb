{
 "cells": [
  {
   "cell_type": "markdown",
   "metadata": {},
   "source": [
    "# core\n",
    "\n",
    "> Fill in a module description here"
   ]
  },
  {
   "cell_type": "code",
   "execution_count": null,
   "metadata": {},
   "outputs": [],
   "source": [
    "#| default_exp core"
   ]
  },
  {
   "cell_type": "code",
   "execution_count": null,
   "metadata": {},
   "outputs": [],
   "source": [
    "#| export\n",
    "import fasthtml.common as fh\n",
    "from fastcore.meta import delegates"
   ]
  },
  {
   "cell_type": "markdown",
   "metadata": {},
   "source": [
    "Setup FastHTML styles in a Notebook."
   ]
  },
  {
   "cell_type": "code",
   "execution_count": null,
   "metadata": {},
   "outputs": [],
   "source": [
    "# try: from IPython import display\n",
    "# except ImportError: display=None"
   ]
  },
  {
   "cell_type": "code",
   "execution_count": null,
   "metadata": {},
   "outputs": [],
   "source": [
    "#| export\n",
    "hdrs = [\n",
    "    fh.Link(rel=\"preconnect\", href=\"https://rsms.me/\"),\n",
    "    fh.Link(rel=\"stylesheet\", href=\"https://rsms.me/inter/inter.css\"),\n",
    "    fh.Script(src=\"https://unpkg.com/htmx.org@next/dist/htmx.min.js\"),\n",
    "    fh.Script(src=\"https://cdn.jsdelivr.net/gh/answerdotai/fasthtml-js@1.0.4/fasthtml.js\"),\n",
    "    fh.Script(src=\"https://cdn.jsdelivr.net/gh/answerdotai/surreal@main/surreal.js\"),\n",
    "    fh.Script(src=\"https://cdn.jsdelivr.net/gh/gnat/css-scope-inline@main/script.js\"),\n",
    "    fh.Style(\"\"\"\n",
    "    :root {\n",
    "      --zinc-50: #fafafa;\n",
    "      --zinc-100: #f4f4f5;\n",
    "      --zinc-200: #e4e4e7;\n",
    "      --zinc-300: #d4d4d8;\n",
    "      --zinc-400: #a1a1aa;\n",
    "      --zinc-500: #71717a;\n",
    "      --zinc-600: #52525b;\n",
    "      --zinc-700: #3f3f46;\n",
    "      --zinc-800: #27272a;\n",
    "      --zinc-900: #18181b;\n",
    "      --zinc-950: #09090b;\n",
    "\n",
    "      --red-50: #fef2f2;\n",
    "      --red-100: #fee2e2;\n",
    "      --red-200: #fecaca;\n",
    "      --red-300: #fca5a5;\n",
    "      --red-400: #f87171;\n",
    "      --red-500: #ef4444;\n",
    "      --red-600: #dc2626;\n",
    "      --red-700: #b91c1c;\n",
    "      --red-800: #991b1b;\n",
    "      --red-900: #7f1d1d;\n",
    "      --red-950: #450a0a;  \n",
    "\n",
    "      font-size: 1rem;\n",
    "      font-family: Inter, sans-serif;\n",
    "      font-feature-settings: 'liga' 1, 'calt' 1; /* fix for Chrome */\n",
    "    }\n",
    "    @supports (font-variation-settings: normal) {\n",
    "        :root { font-family: InterVariable, sans-serif; }\n",
    "    }\n",
    "    \"\"\")\n",
    "]"
   ]
  },
  {
   "cell_type": "code",
   "execution_count": null,
   "metadata": {},
   "outputs": [
    {
     "data": {
      "text/html": [
       "<link rel=\"preconnect\" href=\"https://rsms.me/\">\n",
       "<link rel=\"stylesheet\" href=\"https://rsms.me/inter/inter.css\">\n",
       "<script src=\"https://unpkg.com/htmx.org@next/dist/htmx.min.js\"></script><script src=\"https://cdn.jsdelivr.net/gh/answerdotai/fasthtml-js@1.0.4/fasthtml.js\"></script><script src=\"https://cdn.jsdelivr.net/gh/answerdotai/surreal@main/surreal.js\"></script><script src=\"https://cdn.jsdelivr.net/gh/gnat/css-scope-inline@main/script.js\"></script><style>\n",
       "    :root {\n",
       "      --zinc-50: #fafafa;\n",
       "      --zinc-100: #f4f4f5;\n",
       "      --zinc-200: #e4e4e7;\n",
       "      --zinc-300: #d4d4d8;\n",
       "      --zinc-400: #a1a1aa;\n",
       "      --zinc-500: #71717a;\n",
       "      --zinc-600: #52525b;\n",
       "      --zinc-700: #3f3f46;\n",
       "      --zinc-800: #27272a;\n",
       "      --zinc-900: #18181b;\n",
       "      --zinc-950: #09090b;\n",
       "\n",
       "      --red-50: #fef2f2;\n",
       "      --red-100: #fee2e2;\n",
       "      --red-200: #fecaca;\n",
       "      --red-300: #fca5a5;\n",
       "      --red-400: #f87171;\n",
       "      --red-500: #ef4444;\n",
       "      --red-600: #dc2626;\n",
       "      --red-700: #b91c1c;\n",
       "      --red-800: #991b1b;\n",
       "      --red-900: #7f1d1d;\n",
       "      --red-950: #450a0a;  \n",
       "\n",
       "      font-size: 1rem;\n",
       "      font-family: Inter, sans-serif;\n",
       "      font-feature-settings: 'liga' 1, 'calt' 1; /* fix for Chrome */\n",
       "    }\n",
       "    @supports (font-variation-settings: normal) {\n",
       "        :root { font-family: InterVariable, sans-serif; }\n",
       "    }\n",
       "    </style>\n"
      ],
      "text/plain": [
       "<IPython.core.display.HTML object>"
      ]
     },
     "metadata": {},
     "output_type": "display_data"
    }
   ],
   "source": [
    "fh.show(*hdrs)"
   ]
  },
  {
   "cell_type": "markdown",
   "metadata": {},
   "source": [
    "## Button"
   ]
  },
  {
   "cell_type": "code",
   "execution_count": null,
   "metadata": {},
   "outputs": [],
   "source": [
    "#| export\n",
    "@delegates(fh.ft_hx, keep=True)\n",
    "def Button(*args, variant:str = \"default\", **kwargs):\n",
    "    styles = \"\"\"\n",
    "    me {\n",
    "        position: relative;\n",
    "        display: inline-flex;\n",
    "        align-items: center;\n",
    "        justify-content: center;\n",
    "        font-weight: 500;\n",
    "        gap: 0.5rem;\n",
    "        white-space: nowrap;\n",
    "        height: 2.5rem;\n",
    "        font-size: 0.875rem;\n",
    "        line-height: 1.25rem;\n",
    "        border-radius: 0.5rem;\n",
    "        padding-left: 1rem;\n",
    "        padding-right: 1rem;\n",
    "        box-shadow: 0 1px 2px rgba(0, 0, 0, 0.05);\n",
    "        cursor: pointer;\n",
    "        border-style: solid;\n",
    "        border-width: 0px;\n",
    "        background-color: transparent;\n",
    "    }\n",
    "    \"\"\"\n",
    "    if variant == \"default\":\n",
    "        styles += \"me { background-color: var(--zinc-800); color: white; border-color: var(--zinc-200); }\"\n",
    "        styles += \"me:hover { background-color: var(--zinc-900); }\"\n",
    "    elif variant == \"outline\":\n",
    "        styles += \"me { background-color: white; color: var(--zinc-700); border-width: 1px; border-color: var(--zinc-200); }\"\n",
    "        styles += \"me:hover { background-color: var(--zinc-50); }\"\n",
    "    elif variant == \"ghost\":\n",
    "        styles += \"me { box-shadow: none; }\"\n",
    "        styles += \"me:hover { background-color: var(--zinc-100); }\"\n",
    "    elif variant == \"bad\":\n",
    "        styles += \"me { color: white; background-color: var(--red-500); }\"\n",
    "        styles += \"me:hover { background-color: var(--red-600); }\"\n",
    "    return fh.Button(\n",
    "        fh.Style(styles), *args, **kwargs)"
   ]
  },
  {
   "cell_type": "code",
   "execution_count": null,
   "metadata": {},
   "outputs": [
    {
     "data": {
      "text/html": [
       "<link rel=\"preconnect\" href=\"https://rsms.me/\">\n",
       "<link rel=\"stylesheet\" href=\"https://rsms.me/inter/inter.css\">\n",
       "<script src=\"https://unpkg.com/htmx.org@next/dist/htmx.min.js\"></script><script src=\"https://cdn.jsdelivr.net/gh/answerdotai/fasthtml-js@1.0.4/fasthtml.js\"></script><script src=\"https://cdn.jsdelivr.net/gh/answerdotai/surreal@main/surreal.js\"></script><script src=\"https://cdn.jsdelivr.net/gh/gnat/css-scope-inline@main/script.js\"></script><style>\n",
       "    :root {\n",
       "      --zinc-50: #fafafa;\n",
       "      --zinc-100: #f4f4f5;\n",
       "      --zinc-200: #e4e4e7;\n",
       "      --zinc-300: #d4d4d8;\n",
       "      --zinc-400: #a1a1aa;\n",
       "      --zinc-500: #71717a;\n",
       "      --zinc-600: #52525b;\n",
       "      --zinc-700: #3f3f46;\n",
       "      --zinc-800: #27272a;\n",
       "      --zinc-900: #18181b;\n",
       "      --zinc-950: #09090b;\n",
       "\n",
       "      --red-50: #fef2f2;\n",
       "      --red-100: #fee2e2;\n",
       "      --red-200: #fecaca;\n",
       "      --red-300: #fca5a5;\n",
       "      --red-400: #f87171;\n",
       "      --red-500: #ef4444;\n",
       "      --red-600: #dc2626;\n",
       "      --red-700: #b91c1c;\n",
       "      --red-800: #991b1b;\n",
       "      --red-900: #7f1d1d;\n",
       "      --red-950: #450a0a;  \n",
       "\n",
       "      font-size: 1rem;\n",
       "      font-family: Inter, sans-serif;\n",
       "      font-feature-settings: 'liga' 1, 'calt' 1; /* fix for Chrome */\n",
       "    }\n",
       "    @supports (font-variation-settings: normal) {\n",
       "        :root { font-family: InterVariable, sans-serif; }\n",
       "    }\n",
       "    </style>\n",
       "<div>\n",
       "  <style>me {display:flex;gap:2rem;}</style>\n",
       "<button>    <style>\n",
       "    me {\n",
       "        position: relative;\n",
       "        display: inline-flex;\n",
       "        align-items: center;\n",
       "        justify-content: center;\n",
       "        font-weight: 500;\n",
       "        gap: 0.5rem;\n",
       "        white-space: nowrap;\n",
       "        height: 2.5rem;\n",
       "        font-size: 0.875rem;\n",
       "        line-height: 1.25rem;\n",
       "        border-radius: 0.5rem;\n",
       "        padding-left: 1rem;\n",
       "        padding-right: 1rem;\n",
       "        box-shadow: 0 1px 2px rgba(0, 0, 0, 0.05);\n",
       "        cursor: pointer;\n",
       "        border-style: solid;\n",
       "        border-width: 0px;\n",
       "        background-color: transparent;\n",
       "    }\n",
       "    me { background-color: var(--zinc-800); color: white; border-color: var(--zinc-200); }me:hover { background-color: var(--zinc-900); }</style>\n",
       "Default</button><button>    <style>\n",
       "    me {\n",
       "        position: relative;\n",
       "        display: inline-flex;\n",
       "        align-items: center;\n",
       "        justify-content: center;\n",
       "        font-weight: 500;\n",
       "        gap: 0.5rem;\n",
       "        white-space: nowrap;\n",
       "        height: 2.5rem;\n",
       "        font-size: 0.875rem;\n",
       "        line-height: 1.25rem;\n",
       "        border-radius: 0.5rem;\n",
       "        padding-left: 1rem;\n",
       "        padding-right: 1rem;\n",
       "        box-shadow: 0 1px 2px rgba(0, 0, 0, 0.05);\n",
       "        cursor: pointer;\n",
       "        border-style: solid;\n",
       "        border-width: 0px;\n",
       "        background-color: transparent;\n",
       "    }\n",
       "    me { background-color: white; color: var(--zinc-700); border-width: 1px; border-color: var(--zinc-200); }me:hover { background-color: var(--zinc-50); }</style>\n",
       "Outline</button><button>    <style>\n",
       "    me {\n",
       "        position: relative;\n",
       "        display: inline-flex;\n",
       "        align-items: center;\n",
       "        justify-content: center;\n",
       "        font-weight: 500;\n",
       "        gap: 0.5rem;\n",
       "        white-space: nowrap;\n",
       "        height: 2.5rem;\n",
       "        font-size: 0.875rem;\n",
       "        line-height: 1.25rem;\n",
       "        border-radius: 0.5rem;\n",
       "        padding-left: 1rem;\n",
       "        padding-right: 1rem;\n",
       "        box-shadow: 0 1px 2px rgba(0, 0, 0, 0.05);\n",
       "        cursor: pointer;\n",
       "        border-style: solid;\n",
       "        border-width: 0px;\n",
       "        background-color: transparent;\n",
       "    }\n",
       "    me { box-shadow: none; }me:hover { background-color: var(--zinc-100); }</style>\n",
       "Ghost</button><button>    <style>\n",
       "    me {\n",
       "        position: relative;\n",
       "        display: inline-flex;\n",
       "        align-items: center;\n",
       "        justify-content: center;\n",
       "        font-weight: 500;\n",
       "        gap: 0.5rem;\n",
       "        white-space: nowrap;\n",
       "        height: 2.5rem;\n",
       "        font-size: 0.875rem;\n",
       "        line-height: 1.25rem;\n",
       "        border-radius: 0.5rem;\n",
       "        padding-left: 1rem;\n",
       "        padding-right: 1rem;\n",
       "        box-shadow: 0 1px 2px rgba(0, 0, 0, 0.05);\n",
       "        cursor: pointer;\n",
       "        border-style: solid;\n",
       "        border-width: 0px;\n",
       "        background-color: transparent;\n",
       "    }\n",
       "    me { color: white; background-color: var(--red-500); }me:hover { background-color: var(--red-600); }</style>\n",
       "Bad</button></div>\n"
      ],
      "text/plain": [
       "<IPython.core.display.HTML object>"
      ]
     },
     "metadata": {},
     "output_type": "display_data"
    }
   ],
   "source": [
    "fh.show(*hdrs, fh.Div(fh.Style(\"me {display:flex;gap:2rem;}\"),\n",
    "               Button(\"Default\"), \n",
    "               Button(\"Outline\", variant=\"outline\"),\n",
    "               Button(\"Ghost\", variant=\"ghost\"),\n",
    "               Button(\"Bad\", variant=\"bad\")\n",
    "              ))"
   ]
  },
  {
   "cell_type": "markdown",
   "metadata": {},
   "source": [
    "## Input"
   ]
  },
  {
   "cell_type": "code",
   "execution_count": null,
   "metadata": {},
   "outputs": [],
   "source": [
    "#| export\n",
    "@delegates(fh.ft_hx, keep=True)\n",
    "def Input(*args, **kwargs):\n",
    "    styles = f\"\"\"\n",
    "    me {{\n",
    "        border: 5px solid black;\n",
    "    }}\n",
    "    \"\"\"\n",
    "    return fh.Input(\n",
    "        fh.Style(styles), *args, **kwargs)"
   ]
  },
  {
   "cell_type": "code",
   "execution_count": null,
   "metadata": {},
   "outputs": [
    {
     "data": {
      "text/html": [
       "<div>\n",
       "  <style>me {display:flex;gap:2rem;}</style>\n",
       "  <input type=\"text\">\n",
       "    <style>\n",
       "    me {\n",
       "        border: 5px solid black;\n",
       "    }\n",
       "    </style>\n",
       "</div>\n"
      ],
      "text/plain": [
       "<IPython.core.display.HTML object>"
      ]
     },
     "metadata": {},
     "output_type": "display_data"
    }
   ],
   "source": [
    "fh.show(fh.Div(fh.Style(\"me {display:flex;gap:2rem;}\"),\n",
    "               Input(type=\"text\"),\n",
    "              ))"
   ]
  },
  {
   "cell_type": "markdown",
   "metadata": {},
   "source": [
    "## Label"
   ]
  },
  {
   "cell_type": "code",
   "execution_count": null,
   "metadata": {},
   "outputs": [],
   "source": [
    "#| export\n",
    "@delegates(fh.ft_hx, keep=True)\n",
    "def Label(*args, **kwargs):\n",
    "    styles = f\"\"\"\n",
    "    me {{\n",
    "        color: green;\n",
    "    }}\n",
    "    \"\"\"\n",
    "    return fh.Label(\n",
    "        fh.Style(styles), *args, **kwargs)"
   ]
  },
  {
   "cell_type": "code",
   "execution_count": null,
   "metadata": {},
   "outputs": [
    {
     "data": {
      "text/html": [
       "<div>\n",
       "  <style>me {display:flex;gap:2rem;}</style>\n",
       "<label>    <style>\n",
       "    me {\n",
       "        color: green;\n",
       "    }\n",
       "    </style>\n",
       "Hello world</label></div>\n"
      ],
      "text/plain": [
       "<IPython.core.display.HTML object>"
      ]
     },
     "metadata": {},
     "output_type": "display_data"
    }
   ],
   "source": [
    "fh.show(fh.Div(fh.Style(\"me {display:flex;gap:2rem;}\"),\n",
    "               Label(\"Hello world\"),\n",
    "              ))"
   ]
  },
  {
   "cell_type": "code",
   "execution_count": null,
   "metadata": {},
   "outputs": [],
   "source": []
  },
  {
   "cell_type": "code",
   "execution_count": null,
   "metadata": {},
   "outputs": [],
   "source": [
    "#| hide\n",
    "import nbdev; nbdev.nbdev_export()"
   ]
  },
  {
   "cell_type": "code",
   "execution_count": null,
   "metadata": {},
   "outputs": [],
   "source": []
  }
 ],
 "metadata": {
  "kernelspec": {
   "display_name": "python3",
   "language": "python",
   "name": "python3"
  }
 },
 "nbformat": 4,
 "nbformat_minor": 4
}
